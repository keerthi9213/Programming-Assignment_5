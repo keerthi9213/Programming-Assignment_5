{
 "cells": [
  {
   "cell_type": "markdown",
   "metadata": {},
   "source": [
    "1) Write a Python Program to Find LCM?"
   ]
  },
  {
   "cell_type": "code",
   "execution_count": 8,
   "metadata": {},
   "outputs": [
    {
     "name": "stdout",
     "output_type": "stream",
     "text": [
      "first no: 8\n",
      "second no: 6\n",
      "The lcm of the two numbers is 24\n"
     ]
    }
   ],
   "source": [
    "def lcm(x, y):\n",
    "    if x > y:\n",
    "        greater = x\n",
    "    else:\n",
    "        greater = y\n",
    "    while(True):\n",
    "        if((greater % x == 0) and (greater % y == 0)):\n",
    "            lcm = greater\n",
    "            break\n",
    "        greater += 1\n",
    "\n",
    "    return lcm\n",
    "\n",
    "num1 = int(input(\"first no: \"))\n",
    "num2 = int(input(\"second no: \"))\n",
    "print(\"The lcm of the two numbers is\", lcm(num1, num2)) "
   ]
  },
  {
   "cell_type": "markdown",
   "metadata": {},
   "source": [
    "2) Write a Python Program to Find HCF?"
   ]
  },
  {
   "cell_type": "code",
   "execution_count": 2,
   "metadata": {},
   "outputs": [
    {
     "name": "stdout",
     "output_type": "stream",
     "text": [
      "first no: 24\n",
      "second no: 36\n",
      "The Hcf of the two numbers is 12\n"
     ]
    }
   ],
   "source": [
    "def compute_hcf(x, y):\n",
    "    if x > y:\n",
    "        smaller = y\n",
    "    else:\n",
    "        smaller = x\n",
    "    for i in range(1, smaller+1):\n",
    "        if((x % i == 0) and (y % i == 0)):\n",
    "            hcf = i \n",
    "    return hcf\n",
    "\n",
    "n1 = int(input(\"first no: \"))\n",
    "n2 = int(input(\"second no: \"))\n",
    "print(\"The Hcf of the two numbers is\", compute_hcf(n1, n2))"
   ]
  },
  {
   "cell_type": "markdown",
   "metadata": {},
   "source": [
    "3) Write a Python Program to Convert Decimal to Binary, Octal and Hexadecimal?"
   ]
  },
  {
   "cell_type": "code",
   "execution_count": 3,
   "metadata": {},
   "outputs": [
    {
     "name": "stdout",
     "output_type": "stream",
     "text": [
      "Enter the value: 100\n",
      "The decimal value of 100 is:\n",
      "0b1100100 in binary.\n",
      "0o144 in octal.\n",
      "0x64 in hexadecimal.\n"
     ]
    }
   ],
   "source": [
    "dec = int(input(\"Enter the value: \"))\n",
    "print(\"The decimal value of\", dec, \"is:\")\n",
    "print(bin(dec), \"in binary.\")\n",
    "print(oct(dec), \"in octal.\")\n",
    "print(hex(dec), \"in hexadecimal.\")"
   ]
  },
  {
   "cell_type": "markdown",
   "metadata": {},
   "source": [
    "4) Write a Python Program To Find ASCII value of a character?"
   ]
  },
  {
   "cell_type": "code",
   "execution_count": 9,
   "metadata": {},
   "outputs": [
    {
     "name": "stdout",
     "output_type": "stream",
     "text": [
      "Enter the character: v\n",
      "The ASCII value of v is 118\n"
     ]
    }
   ],
   "source": [
    "char = input(\"Enter the character: \")\n",
    "print(\"The ASCII value of\",char,\"is\",ord(char))"
   ]
  },
  {
   "cell_type": "markdown",
   "metadata": {},
   "source": [
    "5) Write a Python Program to Make a Simple Calculator with 4 basic mathematical operations?"
   ]
  },
  {
   "cell_type": "code",
   "execution_count": 1,
   "metadata": {},
   "outputs": [
    {
     "name": "stdout",
     "output_type": "stream",
     "text": [
      "Select the operation: 1. Add 2. Sub 3. Mul 4. Div \n",
      "Select the choice 1/2/3/4: 1\n",
      "first no: 17\n",
      "Second no: 21\n",
      "17.0 + 21.0 = 38.0\n"
     ]
    }
   ],
   "source": [
    "def Add(x,y):\n",
    "    return x + y\n",
    "    \n",
    "def Sub(x,y):\n",
    "    return x - y\n",
    "def Mul(x,y):\n",
    "    return x * y\n",
    "def Div(x,y):\n",
    "    return x // y\n",
    "\n",
    "print(\"Select the operation: 1. Add 2. Sub 3. Mul 4. Div \")\n",
    "while(True):\n",
    "    choice = input(\"Select the choice 1/2/3/4: \")\n",
    "    \n",
    "    if choice in ('1','2','3','4'):\n",
    "        n1 = float(input(\"first no: \"))\n",
    "        n2 = float(input(\"Second no: \"))\n",
    "        if(choice == '1'):\n",
    "            print(n1, \"+\",n2,\"=\",Add(n1,n2))\n",
    "        elif(choice == '2'):\n",
    "            print(n1 ,\"-\",n2 ,\"=\",Sub(n1,n2))\n",
    "        elif(choice == '3'):\n",
    "            print(n1 ,\"*\",n2 ,\"=\",Mul(n1,n2))\n",
    "        elif(choice == '4'):\n",
    "            print(n1 ,\"/\",n2 ,\"=\",Div(n1,n2))\n",
    "        break\n",
    "    else:\n",
    "        print(\"Invalid Input\")\n",
    "        \n",
    "            "
   ]
  },
  {
   "cell_type": "code",
   "execution_count": 2,
   "metadata": {},
   "outputs": [
    {
     "name": "stdout",
     "output_type": "stream",
     "text": [
      "Select the operation: 1. Add 2. Sub 3. Mul 4. Div \n",
      "Select the choice 1/2/3/4: 2\n",
      "first no: 9.4\n",
      "Second no: 3.2\n",
      "9.4 - 3.2 = 6.2\n"
     ]
    }
   ],
   "source": [
    "def Add(x,y):\n",
    "    return x + y\n",
    "    \n",
    "def Sub(x,y):\n",
    "    return x - y\n",
    "def Mul(x,y):\n",
    "    return x * y\n",
    "def Div(x,y):\n",
    "    return x // y\n",
    "\n",
    "print(\"Select the operation: 1. Add 2. Sub 3. Mul 4. Div \")\n",
    "while(True):\n",
    "    choice = input(\"Select the choice 1/2/3/4: \")\n",
    "    \n",
    "    if choice in ('1','2','3','4'):\n",
    "        n1 = float(input(\"first no: \"))\n",
    "        n2 = float(input(\"Second no: \"))\n",
    "        if(choice == '1'):\n",
    "            print(n1, \"+\",n2,\"=\",Add(n1,n2))\n",
    "        elif(choice == '2'):\n",
    "            print(n1 ,\"-\",n2 ,\"=\",Sub(n1,n2))\n",
    "        elif(choice == '3'):\n",
    "            print(n1 ,\"*\",n2 ,\"=\",Mul(n1,n2))\n",
    "        elif(choice == '4'):\n",
    "            print(n1 ,\"/\",n2 ,\"=\",Div(n1,n2))\n",
    "        break\n",
    "    else:\n",
    "        print(\"Invalid Input\")"
   ]
  },
  {
   "cell_type": "code",
   "execution_count": 1,
   "metadata": {},
   "outputs": [
    {
     "name": "stdout",
     "output_type": "stream",
     "text": [
      "Select the operation: 1. Add 2. Sub 3. Mul 4. Div \n",
      "Select the choice 1/2/3/4: 3\n",
      "first no: 99\n",
      "Second no: 3\n",
      "99.0 * 3.0 = 297.0\n"
     ]
    }
   ],
   "source": [
    "def Add(x,y):\n",
    "    return x + y\n",
    "    \n",
    "def Sub(x,y):\n",
    "    return x - y\n",
    "def Mul(x,y):\n",
    "    return x * y\n",
    "def Div(x,y):\n",
    "    return x // y\n",
    "\n",
    "print(\"Select the operation: 1. Add 2. Sub 3. Mul 4. Div \")\n",
    "while(True):\n",
    "    choice = input(\"Select the choice 1/2/3/4: \")\n",
    "    \n",
    "    if choice in ('1','2','3','4'):\n",
    "        n1 = float(input(\"first no: \"))\n",
    "        n2 = float(input(\"Second no: \"))\n",
    "        if(choice == '1'):\n",
    "            print(n1, \"+\",n2,\"=\",Add(n1,n2))\n",
    "        elif(choice == '2'):\n",
    "            print(n1 ,\"-\",n2 ,\"=\",Sub(n1,n2))\n",
    "        elif(choice == '3'):\n",
    "            print(n1 ,\"*\",n2 ,\"=\",Mul(n1,n2))\n",
    "        elif(choice == '4'):\n",
    "            print(n1 ,\"/\",n2 ,\"=\",Div(n1,n2))\n",
    "        break\n",
    "    else:\n",
    "        print(\"Invalid Input\")"
   ]
  },
  {
   "cell_type": "code",
   "execution_count": 2,
   "metadata": {},
   "outputs": [
    {
     "name": "stdout",
     "output_type": "stream",
     "text": [
      "Select the operation: 1. Add 2. Sub 3. Mul 4. Div \n",
      "Select the choice 1/2/3/4: 4\n",
      "first no: 44.6\n",
      "Second no: 22\n",
      "44.6 / 22.0 = 2.0\n"
     ]
    }
   ],
   "source": [
    "def Add(x,y):\n",
    "    return x + y\n",
    "    \n",
    "def Sub(x,y):\n",
    "    return x - y\n",
    "def Mul(x,y):\n",
    "    return x * y\n",
    "def Div(x,y):\n",
    "    return x // y\n",
    "\n",
    "print(\"Select the operation: 1. Add 2. Sub 3. Mul 4. Div \")\n",
    "while(True):\n",
    "    choice = input(\"Select the choice 1/2/3/4: \")\n",
    "    \n",
    "    if choice in ('1','2','3','4'):\n",
    "        n1 = float(input(\"first no: \"))\n",
    "        n2 = float(input(\"Second no: \"))\n",
    "        if(choice == '1'):\n",
    "            print(n1, \"+\",n2,\"=\",Add(n1,n2))\n",
    "        elif(choice == '2'):\n",
    "            print(n1 ,\"-\",n2 ,\"=\",Sub(n1,n2))\n",
    "        elif(choice == '3'):\n",
    "            print(n1 ,\"*\",n2 ,\"=\",Mul(n1,n2))\n",
    "        elif(choice == '4'):\n",
    "            print(n1 ,\"/\",n2 ,\"=\",Div(n1,n2))\n",
    "        break\n",
    "    else:\n",
    "        print(\"Invalid Input\")"
   ]
  },
  {
   "cell_type": "code",
   "execution_count": null,
   "metadata": {},
   "outputs": [
    {
     "name": "stdout",
     "output_type": "stream",
     "text": [
      "Select the operation: 1. Add 2. Sub 3. Mul 4. Div \n",
      "Select the choice 1/2/3/4: 84\n",
      "Invalid Input\n",
      "Select the choice 1/2/3/4: a\n",
      "Invalid Input\n",
      "Select the choice 1/2/3/4: ,\n",
      "Invalid Input\n"
     ]
    }
   ],
   "source": [
    "def Add(x,y):\n",
    "    return x + y\n",
    "    \n",
    "def Sub(x,y):\n",
    "    return x - y\n",
    "def Mul(x,y):\n",
    "    return x * y\n",
    "def Div(x,y):\n",
    "    return x // y\n",
    "\n",
    "print(\"Select the operation: 1. Add 2. Sub 3. Mul 4. Div \")\n",
    "while(True):\n",
    "    choice = input(\"Select the choice 1/2/3/4: \")\n",
    "    \n",
    "    if choice in ('1','2','3','4'):\n",
    "        n1 = float(input(\"first no: \"))\n",
    "        n2 = float(input(\"Second no: \"))\n",
    "        if(choice == '1'):\n",
    "            print(n1, \"+\",n2,\"=\",Add(n1,n2))\n",
    "        elif(choice == '2'):\n",
    "            print(n1 ,\"-\",n2 ,\"=\",Sub(n1,n2))\n",
    "        elif(choice == '3'):\n",
    "            print(n1 ,\"*\",n2 ,\"=\",Mul(n1,n2))\n",
    "        elif(choice == '4'):\n",
    "            print(n1 ,\"/\",n2 ,\"=\",Div(n1,n2))\n",
    "        break\n",
    "    else:\n",
    "        print(\"Invalid Input\")"
   ]
  },
  {
   "cell_type": "code",
   "execution_count": null,
   "metadata": {},
   "outputs": [],
   "source": []
  }
 ],
 "metadata": {
  "kernelspec": {
   "display_name": "Python 3",
   "language": "python",
   "name": "python3"
  },
  "language_info": {
   "codemirror_mode": {
    "name": "ipython",
    "version": 3
   },
   "file_extension": ".py",
   "mimetype": "text/x-python",
   "name": "python",
   "nbconvert_exporter": "python",
   "pygments_lexer": "ipython3",
   "version": "3.8.5"
  }
 },
 "nbformat": 4,
 "nbformat_minor": 4
}
